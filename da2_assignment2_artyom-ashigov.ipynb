{
 "cells": [
  {
   "cell_type": "markdown",
   "id": "64721b50",
   "metadata": {},
   "source": [
    "# Assignment 2\n",
    "Use the hotels-europe dataset and pick a city (other than Vienna). Each student/pair should\n",
    "pick a different city with at least 250 hotels in the dataset after appropriate filtering of the\n",
    "data. Sign up with the city chosen in this [spreadsheet](https://docs.google.com/spreadsheets/d/1klBSzoNo8vJT9AqvtqVZtcK4Yi_F7cgVisTr9PKLROk/edit?usp=sharing).\n",
    "\n",
    "Once the city is chosen, first combine the [prices dataset](https://osf.io/p6tyr/download) with the [hotel features](https://osf.io/utwjs/download) dataset. Then,\n",
    "use hotel user ratings to create a binary variable: highly_rated=1 if rating ≥ 4, 0 otherwise.\n",
    "Examine how high rating is related to the other hotel features in the data. Make sure to\n",
    "document and argue for the data cleaning/filtering decisions you make.\n",
    "\n",
    "Estimate linear probability, logit, and probit models with distance and stars as explanatory\n",
    "variables. You may add other variables if you wish.\n",
    "\n",
    "Compare coefficients, marginal differences, and predicted probabilities, and discuss your\n",
    "results.\n",
    "\n",
    "This is an assignment that you may do alone or in a pair within your group. You shall write a\n",
    "short (max. 1 page, excluding exhibits) report that describes your major decisions, your\n",
    "estimated models, interpretations and summary. You may have a descriptive data table\n",
    "(optional), a regression table and up to two graphs. All codes should be pushed to your\n",
    "version control repo, with an appropriate commit policy.\n",
    "\n",
    "You need to upload your report in pdf format. Add the link of your repo to the online text\n",
    "field."
   ]
  },
  {
   "cell_type": "code",
   "execution_count": 1,
   "id": "432b4dfb",
   "metadata": {},
   "outputs": [],
   "source": [
    "# importing all libraries\n",
    "import os\n",
    "import sys\n",
    "import warnings\n",
    "\n",
    "import numpy as np\n",
    "import pandas as pd\n",
    "import seaborn as sns\n",
    "import matplotlib.pyplot as plt\n",
    "from mizani.formatters import percent_format\n",
    "from plotnine import *\n",
    "from datetime import datetime\n",
    "import statsmodels.api as sm\n",
    "import statsmodels.formula.api as smf\n",
    "from scipy.stats import norm\n",
    "from IPython.core.display import HTML\n",
    "from stargazer.stargazer import Stargazer\n",
    "import statsmodels.nonparametric.kernel_regression as loess\n",
    "\n",
    "from mizani.transforms import log_trans\n",
    "from mizani.formatters import percent_format\n",
    "from mizani.formatters import log_format\n",
    "\n",
    "# removing warnings\n",
    "\n",
    "warnings.filterwarnings(\"ignore\")"
   ]
  },
  {
   "cell_type": "code",
   "execution_count": 2,
   "id": "9c8f0e21",
   "metadata": {},
   "outputs": [
    {
     "data": {
      "text/html": [
       "<div>\n",
       "<style scoped>\n",
       "    .dataframe tbody tr th:only-of-type {\n",
       "        vertical-align: middle;\n",
       "    }\n",
       "\n",
       "    .dataframe tbody tr th {\n",
       "        vertical-align: top;\n",
       "    }\n",
       "\n",
       "    .dataframe thead th {\n",
       "        text-align: right;\n",
       "    }\n",
       "</style>\n",
       "<table border=\"1\" class=\"dataframe\">\n",
       "  <thead>\n",
       "    <tr style=\"text-align: right;\">\n",
       "      <th></th>\n",
       "      <th>hotel_id</th>\n",
       "      <th>price</th>\n",
       "      <th>offer</th>\n",
       "      <th>offer_cat</th>\n",
       "      <th>year</th>\n",
       "      <th>month</th>\n",
       "      <th>weekend</th>\n",
       "      <th>holiday</th>\n",
       "      <th>nnights</th>\n",
       "      <th>scarce_room</th>\n",
       "    </tr>\n",
       "  </thead>\n",
       "  <tbody>\n",
       "    <tr>\n",
       "      <th>0</th>\n",
       "      <td>1</td>\n",
       "      <td>172</td>\n",
       "      <td>0</td>\n",
       "      <td>0% no offer</td>\n",
       "      <td>2017</td>\n",
       "      <td>11</td>\n",
       "      <td>1</td>\n",
       "      <td>0</td>\n",
       "      <td>1</td>\n",
       "      <td>0</td>\n",
       "    </tr>\n",
       "  </tbody>\n",
       "</table>\n",
       "</div>"
      ],
      "text/plain": [
       "   hotel_id  price  offer    offer_cat  year  month  weekend  holiday  \\\n",
       "0         1    172      0  0% no offer  2017     11        1        0   \n",
       "\n",
       "   nnights  scarce_room  \n",
       "0        1            0  "
      ]
     },
     "execution_count": 2,
     "metadata": {},
     "output_type": "execute_result"
    }
   ],
   "source": [
    "# getting prices dataset and checking it\n",
    "prices = pd.read_csv('https://osf.io/download/p6tyr/')\n",
    "prices.head(1)"
   ]
  },
  {
   "cell_type": "code",
   "execution_count": 3,
   "id": "4b3a3699",
   "metadata": {},
   "outputs": [
    {
     "name": "stdout",
     "output_type": "stream",
     "text": [
      "Prices dataset has 148021 rows\n"
     ]
    }
   ],
   "source": [
    "# number of rows\n",
    "print(f'Prices dataset has {prices.shape[0]} rows')"
   ]
  },
  {
   "cell_type": "code",
   "execution_count": 4,
   "id": "98b52631",
   "metadata": {},
   "outputs": [
    {
     "data": {
      "text/html": [
       "<div>\n",
       "<style scoped>\n",
       "    .dataframe tbody tr th:only-of-type {\n",
       "        vertical-align: middle;\n",
       "    }\n",
       "\n",
       "    .dataframe tbody tr th {\n",
       "        vertical-align: top;\n",
       "    }\n",
       "\n",
       "    .dataframe thead th {\n",
       "        text-align: right;\n",
       "    }\n",
       "</style>\n",
       "<table border=\"1\" class=\"dataframe\">\n",
       "  <thead>\n",
       "    <tr style=\"text-align: right;\">\n",
       "      <th></th>\n",
       "      <th>hotel_id</th>\n",
       "      <th>city</th>\n",
       "      <th>distance</th>\n",
       "      <th>stars</th>\n",
       "      <th>rating</th>\n",
       "      <th>country</th>\n",
       "      <th>city_actual</th>\n",
       "      <th>rating_reviewcount</th>\n",
       "      <th>center1label</th>\n",
       "      <th>center2label</th>\n",
       "      <th>neighbourhood</th>\n",
       "      <th>ratingta</th>\n",
       "      <th>ratingta_count</th>\n",
       "      <th>distance_alter</th>\n",
       "      <th>accommodation_type</th>\n",
       "    </tr>\n",
       "  </thead>\n",
       "  <tbody>\n",
       "    <tr>\n",
       "      <th>0</th>\n",
       "      <td>1</td>\n",
       "      <td>Amsterdam</td>\n",
       "      <td>3.1</td>\n",
       "      <td>4.0</td>\n",
       "      <td>4.3</td>\n",
       "      <td>Netherlands</td>\n",
       "      <td>Amsterdam</td>\n",
       "      <td>1030.0</td>\n",
       "      <td>City centre</td>\n",
       "      <td>Montelbaanstoren</td>\n",
       "      <td>Amsterdam</td>\n",
       "      <td>4.0</td>\n",
       "      <td>1115.0</td>\n",
       "      <td>3.6</td>\n",
       "      <td>Hotel</td>\n",
       "    </tr>\n",
       "  </tbody>\n",
       "</table>\n",
       "</div>"
      ],
      "text/plain": [
       "   hotel_id       city  distance  stars  rating      country city_actual  \\\n",
       "0         1  Amsterdam       3.1    4.0     4.3  Netherlands   Amsterdam   \n",
       "\n",
       "   rating_reviewcount center1label      center2label neighbourhood  ratingta  \\\n",
       "0              1030.0  City centre  Montelbaanstoren     Amsterdam       4.0   \n",
       "\n",
       "   ratingta_count  distance_alter accommodation_type  \n",
       "0          1115.0             3.6              Hotel  "
      ]
     },
     "execution_count": 4,
     "metadata": {},
     "output_type": "execute_result"
    }
   ],
   "source": [
    "# getting features dataset and checking it\n",
    "features = pd.read_csv('https://osf.io/download/utwjs/')\n",
    "features.head(1)"
   ]
  },
  {
   "cell_type": "code",
   "execution_count": 5,
   "id": "0efaff0c",
   "metadata": {
    "scrolled": true
   },
   "outputs": [
    {
     "name": "stdout",
     "output_type": "stream",
     "text": [
      "Features dataset has 22902 rows\n"
     ]
    }
   ],
   "source": [
    "# number of rows\n",
    "print(f'Features dataset has {features.shape[0]} rows')"
   ]
  },
  {
   "cell_type": "code",
   "execution_count": 6,
   "id": "b78ff11c",
   "metadata": {},
   "outputs": [
    {
     "name": "stdout",
     "output_type": "stream",
     "text": [
      "We have 148021 rows in our dataset\n"
     ]
    }
   ],
   "source": [
    "# merging the datasets.\n",
    "hotels = prices.merge(features, on = 'hotel_id')\n",
    "print(f'We have {hotels.shape[0]} rows in our dataset')"
   ]
  },
  {
   "cell_type": "code",
   "execution_count": 7,
   "id": "334d450c",
   "metadata": {},
   "outputs": [],
   "source": [
    "# showing all columns\n",
    "pd.set_option('display.max_columns',None)"
   ]
  },
  {
   "cell_type": "code",
   "execution_count": 8,
   "id": "11e7661f",
   "metadata": {},
   "outputs": [
    {
     "data": {
      "text/html": [
       "<div>\n",
       "<style scoped>\n",
       "    .dataframe tbody tr th:only-of-type {\n",
       "        vertical-align: middle;\n",
       "    }\n",
       "\n",
       "    .dataframe tbody tr th {\n",
       "        vertical-align: top;\n",
       "    }\n",
       "\n",
       "    .dataframe thead th {\n",
       "        text-align: right;\n",
       "    }\n",
       "</style>\n",
       "<table border=\"1\" class=\"dataframe\">\n",
       "  <thead>\n",
       "    <tr style=\"text-align: right;\">\n",
       "      <th></th>\n",
       "      <th>hotel_id</th>\n",
       "      <th>price</th>\n",
       "      <th>offer</th>\n",
       "      <th>offer_cat</th>\n",
       "      <th>year</th>\n",
       "      <th>month</th>\n",
       "      <th>weekend</th>\n",
       "      <th>holiday</th>\n",
       "      <th>nnights</th>\n",
       "      <th>scarce_room</th>\n",
       "      <th>city</th>\n",
       "      <th>distance</th>\n",
       "      <th>stars</th>\n",
       "      <th>rating</th>\n",
       "      <th>country</th>\n",
       "      <th>city_actual</th>\n",
       "      <th>rating_reviewcount</th>\n",
       "      <th>center1label</th>\n",
       "      <th>center2label</th>\n",
       "      <th>neighbourhood</th>\n",
       "      <th>ratingta</th>\n",
       "      <th>ratingta_count</th>\n",
       "      <th>distance_alter</th>\n",
       "      <th>accommodation_type</th>\n",
       "    </tr>\n",
       "  </thead>\n",
       "  <tbody>\n",
       "    <tr>\n",
       "      <th>0</th>\n",
       "      <td>1</td>\n",
       "      <td>172</td>\n",
       "      <td>0</td>\n",
       "      <td>0% no offer</td>\n",
       "      <td>2017</td>\n",
       "      <td>11</td>\n",
       "      <td>1</td>\n",
       "      <td>0</td>\n",
       "      <td>1</td>\n",
       "      <td>0</td>\n",
       "      <td>Amsterdam</td>\n",
       "      <td>3.1</td>\n",
       "      <td>4.0</td>\n",
       "      <td>4.3</td>\n",
       "      <td>Netherlands</td>\n",
       "      <td>Amsterdam</td>\n",
       "      <td>1030.0</td>\n",
       "      <td>City centre</td>\n",
       "      <td>Montelbaanstoren</td>\n",
       "      <td>Amsterdam</td>\n",
       "      <td>4.0</td>\n",
       "      <td>1115.0</td>\n",
       "      <td>3.6</td>\n",
       "      <td>Hotel</td>\n",
       "    </tr>\n",
       "  </tbody>\n",
       "</table>\n",
       "</div>"
      ],
      "text/plain": [
       "   hotel_id  price  offer    offer_cat  year  month  weekend  holiday  \\\n",
       "0         1    172      0  0% no offer  2017     11        1        0   \n",
       "\n",
       "   nnights  scarce_room       city  distance  stars  rating      country  \\\n",
       "0        1            0  Amsterdam       3.1    4.0     4.3  Netherlands   \n",
       "\n",
       "  city_actual  rating_reviewcount center1label      center2label  \\\n",
       "0   Amsterdam              1030.0  City centre  Montelbaanstoren   \n",
       "\n",
       "  neighbourhood  ratingta  ratingta_count  distance_alter accommodation_type  \n",
       "0     Amsterdam       4.0          1115.0             3.6              Hotel  "
      ]
     },
     "execution_count": 8,
     "metadata": {},
     "output_type": "execute_result"
    }
   ],
   "source": [
    "# checking hotels dataset\n",
    "hotels.head(1)"
   ]
  },
  {
   "cell_type": "code",
   "execution_count": 9,
   "id": "a7c756c9",
   "metadata": {},
   "outputs": [
    {
     "data": {
      "text/html": [
       "<div>\n",
       "<style scoped>\n",
       "    .dataframe tbody tr th:only-of-type {\n",
       "        vertical-align: middle;\n",
       "    }\n",
       "\n",
       "    .dataframe tbody tr th {\n",
       "        vertical-align: top;\n",
       "    }\n",
       "\n",
       "    .dataframe thead th {\n",
       "        text-align: right;\n",
       "    }\n",
       "</style>\n",
       "<table border=\"1\" class=\"dataframe\">\n",
       "  <thead>\n",
       "    <tr style=\"text-align: right;\">\n",
       "      <th></th>\n",
       "      <th>hotel_id</th>\n",
       "      <th>price</th>\n",
       "      <th>offer</th>\n",
       "      <th>offer_cat</th>\n",
       "      <th>year</th>\n",
       "      <th>month</th>\n",
       "      <th>weekend</th>\n",
       "      <th>holiday</th>\n",
       "      <th>nnights</th>\n",
       "      <th>scarce_room</th>\n",
       "      <th>city</th>\n",
       "      <th>distance</th>\n",
       "      <th>stars</th>\n",
       "      <th>rating</th>\n",
       "      <th>country</th>\n",
       "      <th>city_actual</th>\n",
       "      <th>rating_reviewcount</th>\n",
       "      <th>center1label</th>\n",
       "      <th>center2label</th>\n",
       "      <th>neighbourhood</th>\n",
       "      <th>ratingta</th>\n",
       "      <th>ratingta_count</th>\n",
       "      <th>distance_alter</th>\n",
       "      <th>accommodation_type</th>\n",
       "    </tr>\n",
       "  </thead>\n",
       "  <tbody>\n",
       "    <tr>\n",
       "      <th>0</th>\n",
       "      <td>15165</td>\n",
       "      <td>2433</td>\n",
       "      <td>0</td>\n",
       "      <td>0% no offer</td>\n",
       "      <td>2017</td>\n",
       "      <td>12</td>\n",
       "      <td>0</td>\n",
       "      <td>1</td>\n",
       "      <td>4</td>\n",
       "      <td>1</td>\n",
       "      <td>Rome</td>\n",
       "      <td>2.3</td>\n",
       "      <td>NaN</td>\n",
       "      <td>NaN</td>\n",
       "      <td>Italy</td>\n",
       "      <td>Rome</td>\n",
       "      <td>NaN</td>\n",
       "      <td>City centre</td>\n",
       "      <td>Palazzo Madama</td>\n",
       "      <td>Aurelio</td>\n",
       "      <td>NaN</td>\n",
       "      <td>NaN</td>\n",
       "      <td>2.0</td>\n",
       "      <td>Apartment</td>\n",
       "    </tr>\n",
       "    <tr>\n",
       "      <th>1</th>\n",
       "      <td>15166</td>\n",
       "      <td>119</td>\n",
       "      <td>1</td>\n",
       "      <td>1-15% offer</td>\n",
       "      <td>2018</td>\n",
       "      <td>6</td>\n",
       "      <td>1</td>\n",
       "      <td>0</td>\n",
       "      <td>1</td>\n",
       "      <td>0</td>\n",
       "      <td>Rome</td>\n",
       "      <td>3.2</td>\n",
       "      <td>4.0</td>\n",
       "      <td>3.5</td>\n",
       "      <td>Italy</td>\n",
       "      <td>Rome</td>\n",
       "      <td>19.0</td>\n",
       "      <td>City centre</td>\n",
       "      <td>Palazzo Madama</td>\n",
       "      <td>Aurelio</td>\n",
       "      <td>3.5</td>\n",
       "      <td>300.0</td>\n",
       "      <td>2.9</td>\n",
       "      <td>Hotel</td>\n",
       "    </tr>\n",
       "    <tr>\n",
       "      <th>2</th>\n",
       "      <td>15166</td>\n",
       "      <td>128</td>\n",
       "      <td>0</td>\n",
       "      <td>0% no offer</td>\n",
       "      <td>2018</td>\n",
       "      <td>5</td>\n",
       "      <td>1</td>\n",
       "      <td>0</td>\n",
       "      <td>1</td>\n",
       "      <td>0</td>\n",
       "      <td>Rome</td>\n",
       "      <td>3.2</td>\n",
       "      <td>4.0</td>\n",
       "      <td>3.5</td>\n",
       "      <td>Italy</td>\n",
       "      <td>Rome</td>\n",
       "      <td>19.0</td>\n",
       "      <td>City centre</td>\n",
       "      <td>Palazzo Madama</td>\n",
       "      <td>Aurelio</td>\n",
       "      <td>3.5</td>\n",
       "      <td>300.0</td>\n",
       "      <td>2.9</td>\n",
       "      <td>Hotel</td>\n",
       "    </tr>\n",
       "    <tr>\n",
       "      <th>3</th>\n",
       "      <td>15166</td>\n",
       "      <td>385</td>\n",
       "      <td>1</td>\n",
       "      <td>15-50% offer</td>\n",
       "      <td>2017</td>\n",
       "      <td>12</td>\n",
       "      <td>0</td>\n",
       "      <td>1</td>\n",
       "      <td>4</td>\n",
       "      <td>0</td>\n",
       "      <td>Rome</td>\n",
       "      <td>3.2</td>\n",
       "      <td>4.0</td>\n",
       "      <td>3.5</td>\n",
       "      <td>Italy</td>\n",
       "      <td>Rome</td>\n",
       "      <td>19.0</td>\n",
       "      <td>City centre</td>\n",
       "      <td>Palazzo Madama</td>\n",
       "      <td>Aurelio</td>\n",
       "      <td>3.5</td>\n",
       "      <td>300.0</td>\n",
       "      <td>2.9</td>\n",
       "      <td>Hotel</td>\n",
       "    </tr>\n",
       "    <tr>\n",
       "      <th>4</th>\n",
       "      <td>15166</td>\n",
       "      <td>119</td>\n",
       "      <td>1</td>\n",
       "      <td>1-15% offer</td>\n",
       "      <td>2018</td>\n",
       "      <td>3</td>\n",
       "      <td>1</td>\n",
       "      <td>0</td>\n",
       "      <td>1</td>\n",
       "      <td>0</td>\n",
       "      <td>Rome</td>\n",
       "      <td>3.2</td>\n",
       "      <td>4.0</td>\n",
       "      <td>3.5</td>\n",
       "      <td>Italy</td>\n",
       "      <td>Rome</td>\n",
       "      <td>19.0</td>\n",
       "      <td>City centre</td>\n",
       "      <td>Palazzo Madama</td>\n",
       "      <td>Aurelio</td>\n",
       "      <td>3.5</td>\n",
       "      <td>300.0</td>\n",
       "      <td>2.9</td>\n",
       "      <td>Hotel</td>\n",
       "    </tr>\n",
       "  </tbody>\n",
       "</table>\n",
       "</div>"
      ],
      "text/plain": [
       "   hotel_id  price  offer     offer_cat  year  month  weekend  holiday  \\\n",
       "0     15165   2433      0   0% no offer  2017     12        0        1   \n",
       "1     15166    119      1   1-15% offer  2018      6        1        0   \n",
       "2     15166    128      0   0% no offer  2018      5        1        0   \n",
       "3     15166    385      1  15-50% offer  2017     12        0        1   \n",
       "4     15166    119      1   1-15% offer  2018      3        1        0   \n",
       "\n",
       "   nnights  scarce_room  city  distance  stars  rating country city_actual  \\\n",
       "0        4            1  Rome       2.3    NaN     NaN   Italy        Rome   \n",
       "1        1            0  Rome       3.2    4.0     3.5   Italy        Rome   \n",
       "2        1            0  Rome       3.2    4.0     3.5   Italy        Rome   \n",
       "3        4            0  Rome       3.2    4.0     3.5   Italy        Rome   \n",
       "4        1            0  Rome       3.2    4.0     3.5   Italy        Rome   \n",
       "\n",
       "   rating_reviewcount center1label    center2label neighbourhood  ratingta  \\\n",
       "0                 NaN  City centre  Palazzo Madama       Aurelio       NaN   \n",
       "1                19.0  City centre  Palazzo Madama       Aurelio       3.5   \n",
       "2                19.0  City centre  Palazzo Madama       Aurelio       3.5   \n",
       "3                19.0  City centre  Palazzo Madama       Aurelio       3.5   \n",
       "4                19.0  City centre  Palazzo Madama       Aurelio       3.5   \n",
       "\n",
       "   ratingta_count  distance_alter accommodation_type  \n",
       "0             NaN             2.0          Apartment  \n",
       "1           300.0             2.9              Hotel  \n",
       "2           300.0             2.9              Hotel  \n",
       "3           300.0             2.9              Hotel  \n",
       "4           300.0             2.9              Hotel  "
      ]
     },
     "execution_count": 9,
     "metadata": {},
     "output_type": "execute_result"
    }
   ],
   "source": [
    "# getting only accommodations from Rome\n",
    "hotels_rome = hotels[hotels['city_actual']=='Rome'].reset_index(drop = True)\n",
    "# checking rome accommodations\n",
    "hotels_rome.head()"
   ]
  },
  {
   "cell_type": "code",
   "execution_count": 10,
   "id": "d137596b",
   "metadata": {},
   "outputs": [],
   "source": [
    "# taking only hotels\n",
    "hotels_rome = hotels_rome[hotels_rome['accommodation_type'] == 'Hotel']"
   ]
  },
  {
   "cell_type": "code",
   "execution_count": 11,
   "id": "3596c0e1",
   "metadata": {},
   "outputs": [
    {
     "data": {
      "text/plain": [
       "1455"
      ]
     },
     "execution_count": 11,
     "metadata": {},
     "output_type": "execute_result"
    }
   ],
   "source": [
    "# number of unique hotels in rome\n",
    "hotels_rome['hotel_id'].nunique()"
   ]
  },
  {
   "cell_type": "code",
   "execution_count": 12,
   "id": "7c686624",
   "metadata": {},
   "outputs": [
    {
     "data": {
      "image/png": "[encoded data removed]",
      "text/plain": [
       "<Figure size 1000x600 with 1 Axes>"
      ]
     },
     "metadata": {},
     "output_type": "display_data"
    }
   ],
   "source": [
    "# Set the style for the plot\n",
    "sns.set(style=\"whitegrid\")\n",
    "\n",
    "# Plotting the distribution of prices\n",
    "plt.figure(figsize=(10, 6))\n",
    "sns.histplot(hotels_rome['price'], bins=50)\n",
    "\n",
    "# Adding titles and labels\n",
    "plt.title('Distribution of Hotel Prices in Rome')\n",
    "plt.xlabel('Price (in Euros)')\n",
    "plt.ylabel('Number of Hotels')\n",
    "\n",
    "# Display the plot\n",
    "plt.show()"
   ]
  },
  {
   "cell_type": "markdown",
   "id": "f67b9d09",
   "metadata": {},
   "source": [
    "Price distribution looks normal. We will keep all observations"
   ]
  },
  {
   "cell_type": "code",
   "execution_count": 13,
   "id": "ca2a7530",
   "metadata": {},
   "outputs": [
    {
     "data": {
      "image/png": "[encoded data removed]",
      "text/plain": [
       "<Figure size 1000x600 with 1 Axes>"
      ]
     },
     "metadata": {},
     "output_type": "display_data"
    }
   ],
   "source": [
    "# Set the style for the plot\n",
    "sns.set(style=\"whitegrid\")\n",
    "\n",
    "# Plotting the distribution of prices\n",
    "plt.figure(figsize=(10, 6))\n",
    "sns.histplot(hotels_rome['distance'], bins=30)\n",
    "\n",
    "# Adding a vertical line at 10 miles\n",
    "plt.axvline(x=10, color='red', linestyle='--')\n",
    "\n",
    "# Adding a text label\n",
    "plt.text(10.5, plt.ylim()[1]*0.9, 'Too Far', color='red')\n",
    "\n",
    "# Adding titles and labels\n",
    "plt.title('Distribution of Hotel Prices in Rome')\n",
    "plt.xlabel('Price (in Euros)')\n",
    "plt.ylabel('Number of Hotels')\n",
    "\n",
    "# Display the plot\n",
    "plt.show()"
   ]
  },
  {
   "cell_type": "markdown",
   "id": "a07e51e7",
   "metadata": {},
   "source": [
    "We will disregard hotels more than 10 miles away. They are our extreme values"
   ]
  },
  {
   "cell_type": "code",
   "execution_count": 15,
   "id": "2232287d",
   "metadata": {},
   "outputs": [],
   "source": [
    "# keeping hotels with distance less than 10 miles from the city center\n",
    "hotels_rome = hotels_rome[hotels_rome['distance'] < 10].reset_index(drop = True)"
   ]
  },
  {
   "cell_type": "code",
   "execution_count": 17,
   "id": "bb15b4b1",
   "metadata": {},
   "outputs": [
    {
     "data": {
      "text/plain": [
       "hotel_id               0\n",
       "price                  0\n",
       "offer                  0\n",
       "offer_cat              0\n",
       "year                   0\n",
       "month                  0\n",
       "weekend                0\n",
       "holiday                0\n",
       "nnights                0\n",
       "scarce_room            0\n",
       "city                   0\n",
       "distance               0\n",
       "stars                  0\n",
       "rating                39\n",
       "country                0\n",
       "city_actual            0\n",
       "rating_reviewcount    39\n",
       "center1label           0\n",
       "center2label           0\n",
       "neighbourhood          0\n",
       "ratingta               0\n",
       "ratingta_count         0\n",
       "distance_alter         0\n",
       "accommodation_type     0\n",
       "dtype: int64"
      ]
     },
     "execution_count": 17,
     "metadata": {},
     "output_type": "execute_result"
    }
   ],
   "source": [
    "# to count null values\n",
    "hotels_rome.isna().sum()"
   ]
  },
  {
   "cell_type": "code",
   "execution_count": 19,
   "id": "ee6406fb",
   "metadata": {},
   "outputs": [],
   "source": [
    "# adding binary variable, that is 1 if users rating is higher or equal to 4\n",
    "hotels_rome['highly_rated'] = (hotels_rome['rating'] >= 4).astype(int)"
   ]
  },
  {
   "cell_type": "markdown",
   "id": "2a069a0c",
   "metadata": {},
   "source": [
    "Examine how high rating is related to the other hotel features in the data. Make sure to\n",
    "document and argue for the data cleaning/filtering decisions you make.\n",
    "Estimate linear probability, logit, and probit models with distance and stars as explanatory\n",
    "variables. You may add other variables if you wish.\n",
    "Compare coefficients, marginal differences, and predicted probabilities, and discuss your\n",
    "results.\n"
   ]
  }
 ],
 "metadata": {
  "kernelspec": {
   "display_name": "Python 3 (ipykernel)",
   "language": "python",
   "name": "python3"
  },
  "language_info": {
   "codemirror_mode": {
    "name": "ipython",
    "version": 3
   },
   "file_extension": ".py",
   "mimetype": "text/x-python",
   "name": "python",
   "nbconvert_exporter": "python",
   "pygments_lexer": "ipython3",
   "version": "3.11.4"
  }
 },
 "nbformat": 4,
 "nbformat_minor": 5
}
